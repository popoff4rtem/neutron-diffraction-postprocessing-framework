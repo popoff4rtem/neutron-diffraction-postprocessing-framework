{
 "cells": [
  {
   "cell_type": "code",
   "execution_count": 1,
   "id": "d784241d",
   "metadata": {},
   "outputs": [],
   "source": [
    "import torch\n",
    "import pandas as pd\n",
    "import numpy as np\n",
    "import matplotlib.pyplot as plt\n",
    "%matplotlib inline\n",
    "import pickle"
   ]
  },
  {
   "cell_type": "code",
   "execution_count": 2,
   "id": "6d7e7736",
   "metadata": {},
   "outputs": [],
   "source": [
    "# Проверяем, доступны ли GPU\n",
    "device = 'cuda' if torch.cuda.is_available() else 'cpu'"
   ]
  },
  {
   "cell_type": "code",
   "execution_count": null,
   "id": "428430af",
   "metadata": {},
   "outputs": [],
   "source": [
    "# Загрузка DataFrame из файла\n",
    "with open(r'./datasets/seg_maps_dataset.pkl', 'rb') as f:\n",
    "    df = pickle.load(f)"
   ]
  },
  {
   "cell_type": "code",
   "execution_count": 4,
   "id": "db8747d6",
   "metadata": {},
   "outputs": [],
   "source": [
    "from sklearn.model_selection import train_test_split\n",
    "from sklearn.preprocessing import LabelEncoder\n",
    "\n",
    "X = df.drop(['Crystal', 'Stats', 'Pulce duration'], axis=1)\n",
    "\n",
    "# Шаг 1: Преобразование строковых меток классов в числовые метки\n",
    "label_encoder = LabelEncoder()\n",
    "\n",
    "Stats = df['Stats']\n",
    "\n",
    "y = df['Crystal']\n",
    "\n",
    "y_encoded = label_encoder.fit_transform(y)\n",
    "\n",
    "Diff_train, Diff_test, Stats_train, Stats_test, y_train, y_test = train_test_split(X, Stats, y_encoded, test_size=0.4, random_state=42)"
   ]
  },
  {
   "cell_type": "code",
   "execution_count": 5,
   "id": "f894597f",
   "metadata": {},
   "outputs": [
    {
     "data": {
      "text/plain": [
       "30"
      ]
     },
     "execution_count": 5,
     "metadata": {},
     "output_type": "execute_result"
    }
   ],
   "source": [
    "len(df['Crystal'].unique())"
   ]
  },
  {
   "cell_type": "code",
   "execution_count": 6,
   "id": "5483a931",
   "metadata": {},
   "outputs": [],
   "source": [
    "# Преобразование матриц в numpy массив перед преобразованием в тензоры\n",
    "Diff_train_matrices = np.array(Diff_train['Matrix'].tolist())\n",
    "Diff_test_matrices = np.array(Diff_test['Matrix'].tolist())\n",
    "\n",
    "Stats_train_matrices = np.array(Stats_train.tolist())\n",
    "Stats_test_matrices = np.array(Stats_test.tolist())\n",
    "\n",
    "# Преобразование данных в тензоры PyTorch\n",
    "Diff_train_tensor = torch.FloatTensor(Diff_train_matrices)\n",
    "Diff_train_tensor = Diff_train_tensor.unsqueeze(1)\n",
    "Stats_train_tensor = torch.FloatTensor(Stats_train_matrices)\n",
    "#Segmentation_Diff_train_tensor = Segmentation_Diff_train_tensor.unsqueeze(1)\n",
    "y_train_tensor = torch.LongTensor(y_train)  # Используем LongTensor для целевых меток\n",
    "\n",
    "Diff_test_tensor = torch.FloatTensor(Diff_test_matrices)\n",
    "Diff_test_tensor = Diff_test_tensor.unsqueeze(1)\n",
    "Stats_test_tensor = torch.FloatTensor(Stats_test_matrices)\n",
    "#Segmentation_Diff_test_tensor = Segmentation_Diff_test_tensor.unsqueeze(1)\n",
    "y_test_tensor = torch.LongTensor(y_test)"
   ]
  },
  {
   "cell_type": "code",
   "execution_count": 7,
   "id": "bb066e77",
   "metadata": {},
   "outputs": [],
   "source": [
    "from torch.utils.data import TensorDataset, DataLoader, random_split\n",
    "\n",
    "# Создание набора данных\n",
    "train_dataset = TensorDataset(Diff_train_tensor, y_train_tensor)\n",
    "\n",
    "test_dataset = TensorDataset(Diff_test_tensor, y_test_tensor)\n",
    "\n",
    "# Создание DataLoader для каждой выборки\n",
    "train_loader = DataLoader(train_dataset, batch_size=10, shuffle=True)\n",
    "\n",
    "test_loader = DataLoader(test_dataset, batch_size=10, shuffle=False)"
   ]
  },
  {
   "cell_type": "code",
   "execution_count": 12,
   "id": "f141a47c",
   "metadata": {},
   "outputs": [],
   "source": [
    "import torch.nn as nn\n",
    "import torchvision.models as models\n",
    "\n",
    "class CrystalResNet(nn.Module):\n",
    "    def __init__(self, num_classes=30, embedding_dim=1024):\n",
    "        super().__init__()\n",
    "        # Загрузка предобученной ResNet-18\n",
    "        self.base_model = models.resnet18(pretrained=True)\n",
    "        \n",
    "        # Модификация первого слоя для 1-канальных входов\n",
    "        self.base_model.conv1 = nn.Conv2d(1, 64, kernel_size=7, \n",
    "                                       stride=2, padding=3, bias=False)\n",
    "        nn.init.kaiming_normal_(self.base_model.conv1.weight, \n",
    "                               mode='fan_out', nonlinearity='relu')\n",
    "        \n",
    "        self.relu = nn.LeakyReLU(0.2, inplace=True)\n",
    "        # Замена последнего слоя и сохранение эмбеддингов\n",
    "        self.features = nn.Sequential(*list(self.base_model.children())[:-1])\n",
    "        self.featuires_to_embeddings = nn.Linear(512, embedding_dim)\n",
    "        self.fc = nn.Linear(embedding_dim, num_classes)\n",
    "\n",
    "    def forward(self, x):\n",
    "        # Извлечение признаков\n",
    "        x = self.features(x)\n",
    "        x = torch.flatten(x, 1)\n",
    "        x = self.relu(self.featuires_to_embeddings(x))\n",
    "        \n",
    "        # Эмбеддинги (512-мерные)\n",
    "        embeddings = x\n",
    "        \n",
    "        # Классификация\n",
    "        logits = self.fc(x)\n",
    "        return logits, embeddings"
   ]
  },
  {
   "cell_type": "code",
   "execution_count": 13,
   "id": "1b68c403",
   "metadata": {},
   "outputs": [
    {
     "name": "stderr",
     "output_type": "stream",
     "text": [
      "c:\\Users\\neUral\\anaconda3\\Lib\\site-packages\\torchvision\\models\\_utils.py:208: UserWarning: The parameter 'pretrained' is deprecated since 0.13 and may be removed in the future, please use 'weights' instead.\n",
      "  warnings.warn(\n",
      "c:\\Users\\neUral\\anaconda3\\Lib\\site-packages\\torchvision\\models\\_utils.py:223: UserWarning: Arguments other than a weight enum or `None` for 'weights' are deprecated since 0.13 and may be removed in the future. The current behavior is equivalent to passing `weights=ResNet18_Weights.IMAGENET1K_V1`. You can also use `weights=ResNet18_Weights.DEFAULT` to get the most up-to-date weights.\n",
      "  warnings.warn(msg)\n"
     ]
    },
    {
     "name": "stdout",
     "output_type": "stream",
     "text": [
      "torch.Size([5, 30]) torch.Size([5, 1024])\n"
     ]
    }
   ],
   "source": [
    "test = torch.randn(5, 1, 250, 480)\n",
    "model = CrystalResNet()\n",
    "out = model(test)\n",
    "print(out[0].size(), out[1].size())"
   ]
  },
  {
   "cell_type": "code",
   "execution_count": 14,
   "id": "595de654",
   "metadata": {},
   "outputs": [],
   "source": [
    "import torch.optim as optim\n",
    "from torch.utils.tensorboard import SummaryWriter\n",
    "\n",
    "model = CrystalResNet().to(device)\n",
    "optimizer = optim.AdamW(model.parameters(), lr=1e-4, weight_decay=1e-3)\n",
    "criterion = nn.CrossEntropyLoss()\n",
    "writer = SummaryWriter()  # Для визуализации в TensorBoard"
   ]
  },
  {
   "cell_type": "code",
   "execution_count": 16,
   "id": "d18fafd9",
   "metadata": {},
   "outputs": [],
   "source": [
    "num_epochs = 15\n",
    "history_train = []\n",
    "history_test = []"
   ]
  },
  {
   "cell_type": "code",
   "execution_count": 17,
   "id": "0aa12753",
   "metadata": {},
   "outputs": [
    {
     "name": "stdout",
     "output_type": "stream",
     "text": [
      "Epoch 0/14\n",
      "Train Loss: 1.0806 Acc: 0.7949\n",
      "Val Loss: 0.0389 Acc: 0.9965\n",
      "\n",
      "Epoch 1/14\n",
      "Train Loss: 0.0431 Acc: 0.9981\n",
      "Val Loss: 0.0032 Acc: 1.0000\n",
      "\n",
      "Epoch 2/14\n",
      "Train Loss: 0.0155 Acc: 0.9991\n",
      "Val Loss: 0.0020 Acc: 1.0000\n",
      "\n",
      "Epoch 3/14\n",
      "Train Loss: 0.0059 Acc: 1.0000\n",
      "Val Loss: 0.0004 Acc: 1.0000\n",
      "\n",
      "Epoch 4/14\n",
      "Train Loss: 0.0350 Acc: 0.9926\n",
      "Val Loss: 0.0557 Acc: 0.9819\n",
      "\n",
      "Epoch 5/14\n",
      "Train Loss: 0.0146 Acc: 0.9968\n",
      "Val Loss: 0.0003 Acc: 1.0000\n",
      "\n",
      "Epoch 6/14\n",
      "Train Loss: 0.0025 Acc: 1.0000\n",
      "Val Loss: 0.0001 Acc: 1.0000\n",
      "\n",
      "Epoch 7/14\n",
      "Train Loss: 0.0014 Acc: 1.0000\n",
      "Val Loss: 0.0001 Acc: 1.0000\n",
      "\n",
      "Epoch 8/14\n",
      "Train Loss: 0.0012 Acc: 1.0000\n",
      "Val Loss: 0.0001 Acc: 1.0000\n",
      "\n",
      "Epoch 9/14\n",
      "Train Loss: 0.0010 Acc: 1.0000\n",
      "Val Loss: 0.0000 Acc: 1.0000\n",
      "\n",
      "Epoch 10/14\n",
      "Train Loss: 0.0005 Acc: 1.0000\n",
      "Val Loss: 0.0000 Acc: 1.0000\n",
      "\n",
      "Epoch 11/14\n",
      "Train Loss: 0.0005 Acc: 1.0000\n",
      "Val Loss: 0.0000 Acc: 1.0000\n",
      "\n",
      "Epoch 12/14\n",
      "Train Loss: 0.0003 Acc: 1.0000\n",
      "Val Loss: 0.0000 Acc: 1.0000\n",
      "\n",
      "Epoch 13/14\n",
      "Train Loss: 0.0004 Acc: 1.0000\n",
      "Val Loss: 0.0000 Acc: 1.0000\n",
      "\n",
      "Epoch 14/14\n",
      "Train Loss: 0.0003 Acc: 1.0000\n",
      "Val Loss: 0.0000 Acc: 1.0000\n",
      "\n"
     ]
    },
    {
     "data": {
      "text/plain": [
       "<All keys matched successfully>"
      ]
     },
     "execution_count": 17,
     "metadata": {},
     "output_type": "execute_result"
    }
   ],
   "source": [
    "best_acc = 0.0\n",
    "best_model_weights = None  # Для сохранения весов лучшей модели\n",
    "\n",
    "for epoch in range(num_epochs):\n",
    "    # --- Фаза обучения ---\n",
    "    model.train()\n",
    "    running_loss_train = 0.0\n",
    "    running_corrects_train = 0\n",
    "    \n",
    "    for inputs, labels in train_loader:\n",
    "        inputs = inputs.to(device)\n",
    "        labels = labels.to(device)\n",
    "        \n",
    "        optimizer.zero_grad()\n",
    "        \n",
    "        with torch.set_grad_enabled(True):  # Явное указание режима\n",
    "            logits, embeddings = model(inputs)\n",
    "            loss = criterion(logits, labels)\n",
    "            loss.backward()\n",
    "            optimizer.step()\n",
    "        \n",
    "        # Статистика\n",
    "        _, preds = torch.max(logits, 1)\n",
    "        running_loss_train += loss.item() * inputs.size(0)\n",
    "        running_corrects_train += torch.sum(preds == labels.data)\n",
    "    \n",
    "    # --- Фаза валидации ---\n",
    "    model.eval()\n",
    "    running_loss_val = 0.0\n",
    "    running_corrects_val = 0\n",
    "    all_embeddings = []\n",
    "    all_labels = []\n",
    "    \n",
    "    for inputs, labels in test_loader:  # Используем val_loader вместо train_loader!\n",
    "        inputs = inputs.to(device)\n",
    "        labels = labels.to(device)\n",
    "        \n",
    "        with torch.no_grad():\n",
    "            logits, embeddings = model(inputs)\n",
    "            loss = criterion(logits, labels)\n",
    "        \n",
    "        # Статистика\n",
    "        _, preds = torch.max(logits, 1)\n",
    "        running_loss_val += loss.item() * inputs.size(0)\n",
    "        running_corrects_val += torch.sum(preds == labels.data)\n",
    "        \n",
    "        # Собираем эмбеддинги для визуализации\n",
    "        if epoch % 5 == 0:\n",
    "            all_embeddings.append(embeddings.cpu())\n",
    "            all_labels.append(labels.cpu())\n",
    "    \n",
    "    # --- Вычисление метрик ---\n",
    "    epoch_loss_train = running_loss_train / len(train_loader.dataset)\n",
    "    epoch_acc_train = running_corrects_train.double() / len(train_loader.dataset)\n",
    "    \n",
    "    epoch_loss_val = running_loss_val / len(test_loader.dataset)\n",
    "    epoch_acc_val = running_corrects_val.double() / len(test_loader.dataset)\n",
    "    \n",
    "    # --- Логирование ---\n",
    "    writer.add_scalars('Loss', {'train': epoch_loss_train, 'val': epoch_loss_val}, epoch)\n",
    "    writer.add_scalars('Accuracy', {'train': epoch_acc_train, 'val': epoch_acc_val}, epoch)\n",
    "    \n",
    "    # --- Визуализация эмбеддингов ---\n",
    "    if epoch % 5 == 0 and all_embeddings:\n",
    "        embeddings_tensor = torch.cat(all_embeddings)\n",
    "        labels_tensor = torch.cat(all_labels)\n",
    "        writer.add_embedding(\n",
    "            embeddings_tensor,\n",
    "            metadata=labels_tensor.numpy(),\n",
    "            tag=\"crystal_embeddings\",\n",
    "            global_step=epoch\n",
    "        )\n",
    "    \n",
    "    # --- Сохранение лучшей модели ---\n",
    "    if epoch_acc_val > best_acc:\n",
    "        best_acc = epoch_acc_val\n",
    "        best_model_weights = model.state_dict().copy()  # Копируем веса\n",
    "        torch.save({\n",
    "            'epoch': epoch,\n",
    "            'model_state_dict': model.state_dict(),\n",
    "            'optimizer_state_dict': optimizer.state_dict(),\n",
    "            'loss': epoch_loss_val,\n",
    "            'accuracy': best_acc,\n",
    "        }, 'best_model.pth')\n",
    "    \n",
    "    # Вывод статистики\n",
    "    print(f'Epoch {epoch}/{num_epochs-1}')\n",
    "    print(f'Train Loss: {epoch_loss_train:.4f} Acc: {epoch_acc_train:.4f}')\n",
    "    print(f'Val Loss: {epoch_loss_val:.4f} Acc: {epoch_acc_val:.4f}\\n')\n",
    "\n",
    "writer.close()\n",
    "\n",
    "# Загрузка лучшей модели в конце обучения\n",
    "model.load_state_dict(best_model_weights)"
   ]
  },
  {
   "cell_type": "code",
   "execution_count": 18,
   "id": "94810696",
   "metadata": {},
   "outputs": [],
   "source": [
    "from sklearn.manifold import TSNE\n",
    "import matplotlib.pyplot as plt\n",
    "from collections import defaultdict\n",
    "\n",
    "# Собираем эмбеддинги по классам\n",
    "class_embeddings = defaultdict(list)\n",
    "model.eval()\n",
    "\n",
    "with torch.no_grad():\n",
    "    for images, labels in test_loader:  # Ваш DataLoader\n",
    "        images = images.to(device)\n",
    "        _, embeddings = model(images)\n",
    "        \n",
    "        for i in range(len(labels)):\n",
    "            class_id = labels[i].item()\n",
    "            class_embeddings[class_id].append(embeddings[i].cpu().numpy())\n",
    "\n",
    "# Усредняем эмбеддинги для каждого класса\n",
    "avg_embeddings = {}\n",
    "for class_id, emb_list in class_embeddings.items():\n",
    "    avg_embeddings[class_id] = np.mean(emb_list, axis=0)"
   ]
  },
  {
   "cell_type": "code",
   "execution_count": 19,
   "id": "7639e236",
   "metadata": {},
   "outputs": [
    {
     "data": {
      "text/plain": [
       "{11: array([ 0.41315997, -0.25810584, -0.11092915, ...,  1.372981  ,\n",
       "         1.5924371 ,  2.3458242 ], dtype=float32),\n",
       " 13: array([ 1.9636942 , -0.09152706, -0.0079618 , ...,  2.1472046 ,\n",
       "         3.0727265 ,  1.3275341 ], dtype=float32),\n",
       " 28: array([ 1.7467096 , -0.25102443,  1.3446965 , ...,  1.933601  ,\n",
       "         1.9143721 , -0.00417902], dtype=float32),\n",
       " 1: array([ 2.2183635 , -0.18146646,  1.9622574 , ..., -0.00791141,\n",
       "         0.31142637, -0.12201514], dtype=float32),\n",
       " 12: array([ 2.7806795 , -0.06939274, -0.00375775, ...,  1.06851   ,\n",
       "         3.0695949 ,  1.1045098 ], dtype=float32),\n",
       " 22: array([-0.09187502, -0.14749503,  1.8176609 , ...,  1.1205504 ,\n",
       "         0.56444097,  1.9541203 ], dtype=float32),\n",
       " 14: array([ 0.01450854, -0.47562134,  1.529544  , ...,  0.2973343 ,\n",
       "         0.08918867,  0.450309  ], dtype=float32),\n",
       " 19: array([ 2.073807  , -0.04900236,  3.2380083 , ...,  0.7113777 ,\n",
       "         1.2234629 ,  1.200904  ], dtype=float32),\n",
       " 0: array([1.2288489 , 0.02852035, 2.8168726 , ..., 0.23961015, 1.5929782 ,\n",
       "        1.377508  ], dtype=float32),\n",
       " 7: array([ 2.1961563 , -0.12634431,  0.51895046, ...,  1.0636486 ,\n",
       "         0.97065896, -0.05500476], dtype=float32),\n",
       " 2: array([ 1.1898793 , -0.295189  ,  0.7230476 , ..., -0.09786905,\n",
       "        -0.05877033,  1.4439584 ], dtype=float32),\n",
       " 24: array([ 1.8197677 , -0.07002981,  3.1684222 , ...,  0.35732296,\n",
       "        -0.01399854,  0.14840642], dtype=float32),\n",
       " 16: array([ 0.34973386, -0.23241769,  0.6455455 , ...,  1.2280396 ,\n",
       "         2.1925156 , -0.02847449], dtype=float32),\n",
       " 8: array([ 1.7034081 , -0.04117486,  0.88416606, ...,  3.3359065 ,\n",
       "         0.455156  ,  1.6663826 ], dtype=float32),\n",
       " 10: array([-0.06881425, -0.28559336,  0.15868081, ...,  0.02929066,\n",
       "        -0.13265936,  2.1537812 ], dtype=float32),\n",
       " 3: array([-0.04029153, -0.14174744,  3.271952  , ...,  2.1141813 ,\n",
       "         1.1157546 ,  0.17592336], dtype=float32),\n",
       " 5: array([ 2.4979954 , -0.11916287,  2.5021427 , ...,  1.9343079 ,\n",
       "         0.6182354 ,  0.28962502], dtype=float32),\n",
       " 23: array([ 3.2149742 , -0.26215607, -0.06050631, ...,  1.4791085 ,\n",
       "        -0.04479737,  0.20265827], dtype=float32),\n",
       " 25: array([ 2.221556  , -0.08915796,  0.2359289 , ...,  0.8036224 ,\n",
       "         2.6396399 ,  0.08278017], dtype=float32),\n",
       " 6: array([ 1.9060742 , -0.42306283,  1.656832  , ...,  1.2281961 ,\n",
       "         0.44836566, -0.02066203], dtype=float32),\n",
       " 20: array([ 1.6783892 , -0.06192652, -0.12021977, ...,  0.16004398,\n",
       "         0.33974057,  1.2427251 ], dtype=float32),\n",
       " 17: array([ 1.4474245 , -0.2178414 ,  1.3506826 , ...,  0.95694315,\n",
       "         1.6411765 ,  1.2470258 ], dtype=float32),\n",
       " 4: array([ 0.6954824 , -0.28870618,  1.8998066 , ...,  0.03891516,\n",
       "         1.2403677 ,  0.31279123], dtype=float32),\n",
       " 18: array([ 0.0358219 , -0.13791381,  0.5720006 , ...,  1.1739331 ,\n",
       "         1.0773778 ,  0.29626828], dtype=float32),\n",
       " 26: array([ 0.8269103 , -0.21477218,  0.5303705 , ...,  1.0394375 ,\n",
       "         2.355846  ,  0.7933045 ], dtype=float32),\n",
       " 21: array([ 1.1011765 , -0.22005725,  3.8125558 , ...,  1.1368012 ,\n",
       "        -0.07481974, -0.04538171], dtype=float32),\n",
       " 9: array([ 1.4545747 , -0.18807945, -0.19457331, ...,  1.8973535 ,\n",
       "         2.64157   ,  2.4338381 ], dtype=float32),\n",
       " 27: array([ 1.6055    , -0.2429499 ,  2.4931948 , ...,  1.247721  ,\n",
       "         1.205033  ,  0.25297672], dtype=float32),\n",
       " 15: array([-0.00903139, -0.19212215,  2.524237  , ...,  0.23953   ,\n",
       "         0.55825716,  0.7217693 ], dtype=float32),\n",
       " 29: array([ 0.05940587, -0.0631969 ,  0.75547993, ...,  0.88261104,\n",
       "         3.0979464 ,  0.3787095 ], dtype=float32)}"
      ]
     },
     "execution_count": 19,
     "metadata": {},
     "output_type": "execute_result"
    }
   ],
   "source": [
    "avg_embeddings"
   ]
  },
  {
   "cell_type": "code",
   "execution_count": 20,
   "id": "1d94599f",
   "metadata": {},
   "outputs": [],
   "source": [
    "import torch\n",
    "import torch.nn as nn\n",
    "import numpy as np\n",
    "from collections import OrderedDict\n",
    "\n",
    "class CrystalEmbeddingLayer(nn.Module):\n",
    "    def __init__(self, embedding_dict, embedding_dim):\n",
    "        \"\"\"\n",
    "        Args:\n",
    "            embedding_dict (dict): Словарь {class_id: avg_embedding}\n",
    "            embedding_dim (int): Размерность эмбеддингов\n",
    "        \"\"\"\n",
    "        super().__init__()\n",
    "\n",
    "        self.embedding_dim = embedding_dim\n",
    "        \n",
    "        # Создаем упорядоченный список классов\n",
    "        self.classes = sorted(embedding_dict.keys())\n",
    "        \n",
    "        # Инициализируем матрицу эмбеддингов\n",
    "        embedding_matrix = torch.zeros((len(self.classes), embedding_dim))\n",
    "        \n",
    "        # Заполняем матрицу из словаря\n",
    "        for class_id in self.classes:\n",
    "            embedding_matrix[class_id] = torch.tensor(embedding_dict[class_id])\n",
    "        \n",
    "        # Регистрируем как обучаемый параметр (или замораживаем)\n",
    "        self.embedding = nn.Embedding.from_pretrained(embedding_matrix, freeze=False)\n",
    "        \n",
    "    def forward(self, class_labels):\n",
    "        \"\"\"\n",
    "        Args:\n",
    "            class_labels (torch.Tensor): Тензор меток [batch_size, 1]\n",
    "        Returns:\n",
    "            torch.Tensor: Тензор эмбеддингов [batch_size, embedding_dim]\n",
    "        \"\"\"\n",
    "        # Преобразуем [batch_size, 1] -> [batch_size]\n",
    "        if class_labels.dim() == 2 and class_labels.size(1) == 1:\n",
    "            class_labels = class_labels.squeeze(1)\n",
    "        \n",
    "        return self.embedding(class_labels)"
   ]
  },
  {
   "cell_type": "code",
   "execution_count": 22,
   "id": "dc83177f",
   "metadata": {},
   "outputs": [
    {
     "name": "stdout",
     "output_type": "stream",
     "text": [
      "Input shape: torch.Size([1, 1])\n",
      "Output shape: torch.Size([1, 1024])\n",
      "tensor([[1.2288, 0.0285, 2.8169,  ..., 0.2396, 1.5930, 1.3775]],\n",
      "       grad_fn=<EmbeddingBackward0>)\n"
     ]
    }
   ],
   "source": [
    "embedding_layer = CrystalEmbeddingLayer(avg_embeddings, embedding_dim=1024)\n",
    "batch_labels = torch.tensor([[0]])  # [batch_size, 1]\n",
    "embeddings = embedding_layer(batch_labels)\n",
    "\n",
    "print(f\"Input shape: {batch_labels.shape}\")\n",
    "print(f\"Output shape: {embeddings.shape}\")  # [4, 128]\n",
    "print(embeddings)"
   ]
  },
  {
   "cell_type": "code",
   "execution_count": 23,
   "id": "65aba6ab",
   "metadata": {},
   "outputs": [],
   "source": [
    "torch.save(embedding_layer, r'crystal_embedding_layer_1024.pth')"
   ]
  },
  {
   "cell_type": "code",
   "execution_count": 35,
   "id": "73765ced",
   "metadata": {},
   "outputs": [
    {
     "name": "stderr",
     "output_type": "stream",
     "text": [
      "c:\\Users\\neUral\\anaconda3\\Lib\\site-packages\\joblib\\externals\\loky\\backend\\context.py:136: UserWarning: Could not find the number of physical cores for the following reason:\n",
      "[WinError 2] Не удается найти указанный файл\n",
      "Returning the number of logical cores instead. You can silence this warning by setting LOKY_MAX_CPU_COUNT to the number of cores you want to use.\n",
      "  warnings.warn(\n",
      "  File \"c:\\Users\\neUral\\anaconda3\\Lib\\site-packages\\joblib\\externals\\loky\\backend\\context.py\", line 257, in _count_physical_cores\n",
      "    cpu_info = subprocess.run(\n",
      "               ^^^^^^^^^^^^^^^\n",
      "  File \"c:\\Users\\neUral\\anaconda3\\Lib\\subprocess.py\", line 548, in run\n",
      "    with Popen(*popenargs, **kwargs) as process:\n",
      "         ^^^^^^^^^^^^^^^^^^^^^^^^^^^\n",
      "  File \"c:\\Users\\neUral\\anaconda3\\Lib\\subprocess.py\", line 1026, in __init__\n",
      "    self._execute_child(args, executable, preexec_fn, close_fds,\n",
      "  File \"c:\\Users\\neUral\\anaconda3\\Lib\\subprocess.py\", line 1538, in _execute_child\n",
      "    hp, ht, pid, tid = _winapi.CreateProcess(executable, args,\n",
      "                       ^^^^^^^^^^^^^^^^^^^^^^^^^^^^^^^^^^^^^^^\n"
     ]
    }
   ],
   "source": [
    "# Преобразуем в массив\n",
    "class_ids = sorted(avg_embeddings.keys())\n",
    "emb_array = np.array([avg_embeddings[cid] for cid in class_ids])\n",
    "\n",
    "# Применяем t-SNE\n",
    "tsne = TSNE(n_components=2, perplexity=min(5, len(class_ids)-1), random_state=42)\n",
    "embeddings_2d = tsne.fit_transform(emb_array)"
   ]
  },
  {
   "cell_type": "code",
   "execution_count": 36,
   "id": "4f406269",
   "metadata": {},
   "outputs": [
    {
     "data": {
      "image/png": "[encoded data removed]",
      "text/plain": [
       "<Figure size 1200x1000 with 1 Axes>"
      ]
     },
     "metadata": {},
     "output_type": "display_data"
    }
   ],
   "source": [
    "plt.figure(figsize=(12, 10))\n",
    "plt.title('2D Visualization of Crystal Embeddings')\n",
    "\n",
    "# Создаем scatter plot для каждого класса\n",
    "for class_id, (x, y) in zip(class_ids, embeddings_2d):\n",
    "    plt.scatter(x, y, label=f'Class {class_id}')\n",
    "    plt.text(x, y, str(class_id), fontsize=9)\n",
    "\n",
    "plt.legend()\n",
    "plt.grid(True)\n",
    "plt.show()"
   ]
  },
  {
   "cell_type": "code",
   "execution_count": 39,
   "id": "0266e46c",
   "metadata": {},
   "outputs": [
    {
     "data": {
      "application/vnd.plotly.v1+json": {
       "config": {
        "plotlyServerURL": "https://plot.ly"
       },
       "data": [
        {
         "hovertemplate": "<b>%{hovertext}</b><br><br>x=%{x}<br>y=%{y}<br>size=%{marker.size}<br>class=%{text}<extra></extra>",
         "hovertext": [
          "Class 0",
          "Class 1",
          "Class 2",
          "Class 3",
          "Class 4",
          "Class 5",
          "Class 6",
          "Class 7",
          "Class 8",
          "Class 9",
          "Class 10",
          "Class 11",
          "Class 12",
          "Class 13",
          "Class 14",
          "Class 15",
          "Class 16",
          "Class 17",
          "Class 18",
          "Class 19",
          "Class 20",
          "Class 21",
          "Class 22",
          "Class 23",
          "Class 24",
          "Class 25",
          "Class 26",
          "Class 27",
          "Class 28",
          "Class 29"
         ],
         "legendgroup": "",
         "marker": {
          "color": "#636efa",
          "size": [
           20,
           20,
           20,
           20,
           20,
           20,
           20,
           20,
           20,
           20,
           20,
           20,
           20,
           20,
           20,
           20,
           20,
           20,
           20,
           20,
           20,
           20,
           20,
           20,
           20,
           20,
           20,
           20,
           20,
           20
          ],
          "sizemode": "area",
          "sizeref": 0.05,
          "symbol": "circle"
         },
         "mode": "markers+text",
         "name": "",
         "orientation": "v",
         "showlegend": false,
         "text": [
          "Class 0",
          "Class 1",
          "Class 2",
          "Class 3",
          "Class 4",
          "Class 5",
          "Class 6",
          "Class 7",
          "Class 8",
          "Class 9",
          "Class 10",
          "Class 11",
          "Class 12",
          "Class 13",
          "Class 14",
          "Class 15",
          "Class 16",
          "Class 17",
          "Class 18",
          "Class 19",
          "Class 20",
          "Class 21",
          "Class 22",
          "Class 23",
          "Class 24",
          "Class 25",
          "Class 26",
          "Class 27",
          "Class 28",
          "Class 29"
         ],
         "textposition": "top center",
         "type": "scatter",
         "x": [
          -11.210600852966309,
          19.74646759033203,
          13.209793090820312,
          -16.196409225463867,
          -12.172296524047852,
          -22.435508728027344,
          -24.48198699951172,
          7.010133743286133,
          -6.776965141296387,
          7.759395599365234,
          -0.42080965638160706,
          11.216286659240723,
          -2.574963331222534,
          -30.189722061157227,
          -22.106172561645508,
          24.396453857421875,
          27.936737060546875,
          2.553598403930664,
          -4.143979072570801,
          -2.898056745529175,
          10.846915245056152,
          -12.882955551147461,
          2.519500255584717,
          -4.061507225036621,
          -22.888364791870117,
          6.227667331695557,
          -3.848761558532715,
          -14.447937965393066,
          -16.620729446411133,
          -15.616849899291992
         ],
         "xaxis": "x",
         "y": [
          1.0877872705459595,
          -19.684358596801758,
          -7.642061710357666,
          11.74532699584961,
          7.56220006942749,
          12.89413070678711,
          -20.47195816040039,
          -34.54943084716797,
          -32.554691314697266,
          -17.001760482788086,
          -19.067472457885742,
          -38.90658950805664,
          -29.43714141845703,
          -14.110103607177734,
          -10.541556358337402,
          -34.28447723388672,
          -37.847660064697266,
          -4.277143955230713,
          -43.344356536865234,
          1.726758599281311,
          -20.52729034423828,
          -6.547903060913086,
          -13.1005859375,
          -47.976417541503906,
          -16.74688720703125,
          -30.688661575317383,
          -11.244023323059082,
          -19.165454864501953,
          -31.856708526611328,
          0.859624445438385
         ],
         "yaxis": "y"
        }
       ],
       "layout": {
        "legend": {
         "itemsizing": "constant",
         "tracegroupgap": 0
        },
        "template": {
         "data": {
          "bar": [
           {
            "error_x": {
             "color": "#2a3f5f"
            },
            "error_y": {
             "color": "#2a3f5f"
            },
            "marker": {
             "line": {
              "color": "#E5ECF6",
              "width": 0.5
             },
             "pattern": {
              "fillmode": "overlay",
              "size": 10,
              "solidity": 0.2
             }
            },
            "type": "bar"
           }
          ],
          "barpolar": [
           {
            "marker": {
             "line": {
              "color": "#E5ECF6",
              "width": 0.5
             },
             "pattern": {
              "fillmode": "overlay",
              "size": 10,
              "solidity": 0.2
             }
            },
            "type": "barpolar"
           }
          ],
          "carpet": [
           {
            "aaxis": {
             "endlinecolor": "#2a3f5f",
             "gridcolor": "white",
             "linecolor": "white",
             "minorgridcolor": "white",
             "startlinecolor": "#2a3f5f"
            },
            "baxis": {
             "endlinecolor": "#2a3f5f",
             "gridcolor": "white",
             "linecolor": "white",
             "minorgridcolor": "white",
             "startlinecolor": "#2a3f5f"
            },
            "type": "carpet"
           }
          ],
          "choropleth": [
           {
            "colorbar": {
             "outlinewidth": 0,
             "ticks": ""
            },
            "type": "choropleth"
           }
          ],
          "contour": [
           {
            "colorbar": {
             "outlinewidth": 0,
             "ticks": ""
            },
            "colorscale": [
             [
              0,
              "#0d0887"
             ],
             [
              0.1111111111111111,
              "#46039f"
             ],
             [
              0.2222222222222222,
              "#7201a8"
             ],
             [
              0.3333333333333333,
              "#9c179e"
             ],
             [
              0.4444444444444444,
              "#bd3786"
             ],
             [
              0.5555555555555556,
              "#d8576b"
             ],
             [
              0.6666666666666666,
              "#ed7953"
             ],
             [
              0.7777777777777778,
              "#fb9f3a"
             ],
             [
              0.8888888888888888,
              "#fdca26"
             ],
             [
              1,
              "#f0f921"
             ]
            ],
            "type": "contour"
           }
          ],
          "contourcarpet": [
           {
            "colorbar": {
             "outlinewidth": 0,
             "ticks": ""
            },
            "type": "contourcarpet"
           }
          ],
          "heatmap": [
           {
            "colorbar": {
             "outlinewidth": 0,
             "ticks": ""
            },
            "colorscale": [
             [
              0,
              "#0d0887"
             ],
             [
              0.1111111111111111,
              "#46039f"
             ],
             [
              0.2222222222222222,
              "#7201a8"
             ],
             [
              0.3333333333333333,
              "#9c179e"
             ],
             [
              0.4444444444444444,
              "#bd3786"
             ],
             [
              0.5555555555555556,
              "#d8576b"
             ],
             [
              0.6666666666666666,
              "#ed7953"
             ],
             [
              0.7777777777777778,
              "#fb9f3a"
             ],
             [
              0.8888888888888888,
              "#fdca26"
             ],
             [
              1,
              "#f0f921"
             ]
            ],
            "type": "heatmap"
           }
          ],
          "heatmapgl": [
           {
            "colorbar": {
             "outlinewidth": 0,
             "ticks": ""
            },
            "colorscale": [
             [
              0,
              "#0d0887"
             ],
             [
              0.1111111111111111,
              "#46039f"
             ],
             [
              0.2222222222222222,
              "#7201a8"
             ],
             [
              0.3333333333333333,
              "#9c179e"
             ],
             [
              0.4444444444444444,
              "#bd3786"
             ],
             [
              0.5555555555555556,
              "#d8576b"
             ],
             [
              0.6666666666666666,
              "#ed7953"
             ],
             [
              0.7777777777777778,
              "#fb9f3a"
             ],
             [
              0.8888888888888888,
              "#fdca26"
             ],
             [
              1,
              "#f0f921"
             ]
            ],
            "type": "heatmapgl"
           }
          ],
          "histogram": [
           {
            "marker": {
             "pattern": {
              "fillmode": "overlay",
              "size": 10,
              "solidity": 0.2
             }
            },
            "type": "histogram"
           }
          ],
          "histogram2d": [
           {
            "colorbar": {
             "outlinewidth": 0,
             "ticks": ""
            },
            "colorscale": [
             [
              0,
              "#0d0887"
             ],
             [
              0.1111111111111111,
              "#46039f"
             ],
             [
              0.2222222222222222,
              "#7201a8"
             ],
             [
              0.3333333333333333,
              "#9c179e"
             ],
             [
              0.4444444444444444,
              "#bd3786"
             ],
             [
              0.5555555555555556,
              "#d8576b"
             ],
             [
              0.6666666666666666,
              "#ed7953"
             ],
             [
              0.7777777777777778,
              "#fb9f3a"
             ],
             [
              0.8888888888888888,
              "#fdca26"
             ],
             [
              1,
              "#f0f921"
             ]
            ],
            "type": "histogram2d"
           }
          ],
          "histogram2dcontour": [
           {
            "colorbar": {
             "outlinewidth": 0,
             "ticks": ""
            },
            "colorscale": [
             [
              0,
              "#0d0887"
             ],
             [
              0.1111111111111111,
              "#46039f"
             ],
             [
              0.2222222222222222,
              "#7201a8"
             ],
             [
              0.3333333333333333,
              "#9c179e"
             ],
             [
              0.4444444444444444,
              "#bd3786"
             ],
             [
              0.5555555555555556,
              "#d8576b"
             ],
             [
              0.6666666666666666,
              "#ed7953"
             ],
             [
              0.7777777777777778,
              "#fb9f3a"
             ],
             [
              0.8888888888888888,
              "#fdca26"
             ],
             [
              1,
              "#f0f921"
             ]
            ],
            "type": "histogram2dcontour"
           }
          ],
          "mesh3d": [
           {
            "colorbar": {
             "outlinewidth": 0,
             "ticks": ""
            },
            "type": "mesh3d"
           }
          ],
          "parcoords": [
           {
            "line": {
             "colorbar": {
              "outlinewidth": 0,
              "ticks": ""
             }
            },
            "type": "parcoords"
           }
          ],
          "pie": [
           {
            "automargin": true,
            "type": "pie"
           }
          ],
          "scatter": [
           {
            "fillpattern": {
             "fillmode": "overlay",
             "size": 10,
             "solidity": 0.2
            },
            "type": "scatter"
           }
          ],
          "scatter3d": [
           {
            "line": {
             "colorbar": {
              "outlinewidth": 0,
              "ticks": ""
             }
            },
            "marker": {
             "colorbar": {
              "outlinewidth": 0,
              "ticks": ""
             }
            },
            "type": "scatter3d"
           }
          ],
          "scattercarpet": [
           {
            "marker": {
             "colorbar": {
              "outlinewidth": 0,
              "ticks": ""
             }
            },
            "type": "scattercarpet"
           }
          ],
          "scattergeo": [
           {
            "marker": {
             "colorbar": {
              "outlinewidth": 0,
              "ticks": ""
             }
            },
            "type": "scattergeo"
           }
          ],
          "scattergl": [
           {
            "marker": {
             "colorbar": {
              "outlinewidth": 0,
              "ticks": ""
             }
            },
            "type": "scattergl"
           }
          ],
          "scattermapbox": [
           {
            "marker": {
             "colorbar": {
              "outlinewidth": 0,
              "ticks": ""
             }
            },
            "type": "scattermapbox"
           }
          ],
          "scatterpolar": [
           {
            "marker": {
             "colorbar": {
              "outlinewidth": 0,
              "ticks": ""
             }
            },
            "type": "scatterpolar"
           }
          ],
          "scatterpolargl": [
           {
            "marker": {
             "colorbar": {
              "outlinewidth": 0,
              "ticks": ""
             }
            },
            "type": "scatterpolargl"
           }
          ],
          "scatterternary": [
           {
            "marker": {
             "colorbar": {
              "outlinewidth": 0,
              "ticks": ""
             }
            },
            "type": "scatterternary"
           }
          ],
          "surface": [
           {
            "colorbar": {
             "outlinewidth": 0,
             "ticks": ""
            },
            "colorscale": [
             [
              0,
              "#0d0887"
             ],
             [
              0.1111111111111111,
              "#46039f"
             ],
             [
              0.2222222222222222,
              "#7201a8"
             ],
             [
              0.3333333333333333,
              "#9c179e"
             ],
             [
              0.4444444444444444,
              "#bd3786"
             ],
             [
              0.5555555555555556,
              "#d8576b"
             ],
             [
              0.6666666666666666,
              "#ed7953"
             ],
             [
              0.7777777777777778,
              "#fb9f3a"
             ],
             [
              0.8888888888888888,
              "#fdca26"
             ],
             [
              1,
              "#f0f921"
             ]
            ],
            "type": "surface"
           }
          ],
          "table": [
           {
            "cells": {
             "fill": {
              "color": "#EBF0F8"
             },
             "line": {
              "color": "white"
             }
            },
            "header": {
             "fill": {
              "color": "#C8D4E3"
             },
             "line": {
              "color": "white"
             }
            },
            "type": "table"
           }
          ]
         },
         "layout": {
          "annotationdefaults": {
           "arrowcolor": "#2a3f5f",
           "arrowhead": 0,
           "arrowwidth": 1
          },
          "autotypenumbers": "strict",
          "coloraxis": {
           "colorbar": {
            "outlinewidth": 0,
            "ticks": ""
           }
          },
          "colorscale": {
           "diverging": [
            [
             0,
             "#8e0152"
            ],
            [
             0.1,
             "#c51b7d"
            ],
            [
             0.2,
             "#de77ae"
            ],
            [
             0.3,
             "#f1b6da"
            ],
            [
             0.4,
             "#fde0ef"
            ],
            [
             0.5,
             "#f7f7f7"
            ],
            [
             0.6,
             "#e6f5d0"
            ],
            [
             0.7,
             "#b8e186"
            ],
            [
             0.8,
             "#7fbc41"
            ],
            [
             0.9,
             "#4d9221"
            ],
            [
             1,
             "#276419"
            ]
           ],
           "sequential": [
            [
             0,
             "#0d0887"
            ],
            [
             0.1111111111111111,
             "#46039f"
            ],
            [
             0.2222222222222222,
             "#7201a8"
            ],
            [
             0.3333333333333333,
             "#9c179e"
            ],
            [
             0.4444444444444444,
             "#bd3786"
            ],
            [
             0.5555555555555556,
             "#d8576b"
            ],
            [
             0.6666666666666666,
             "#ed7953"
            ],
            [
             0.7777777777777778,
             "#fb9f3a"
            ],
            [
             0.8888888888888888,
             "#fdca26"
            ],
            [
             1,
             "#f0f921"
            ]
           ],
           "sequentialminus": [
            [
             0,
             "#0d0887"
            ],
            [
             0.1111111111111111,
             "#46039f"
            ],
            [
             0.2222222222222222,
             "#7201a8"
            ],
            [
             0.3333333333333333,
             "#9c179e"
            ],
            [
             0.4444444444444444,
             "#bd3786"
            ],
            [
             0.5555555555555556,
             "#d8576b"
            ],
            [
             0.6666666666666666,
             "#ed7953"
            ],
            [
             0.7777777777777778,
             "#fb9f3a"
            ],
            [
             0.8888888888888888,
             "#fdca26"
            ],
            [
             1,
             "#f0f921"
            ]
           ]
          },
          "colorway": [
           "#636efa",
           "#EF553B",
           "#00cc96",
           "#ab63fa",
           "#FFA15A",
           "#19d3f3",
           "#FF6692",
           "#B6E880",
           "#FF97FF",
           "#FECB52"
          ],
          "font": {
           "color": "#2a3f5f"
          },
          "geo": {
           "bgcolor": "white",
           "lakecolor": "white",
           "landcolor": "#E5ECF6",
           "showlakes": true,
           "showland": true,
           "subunitcolor": "white"
          },
          "hoverlabel": {
           "align": "left"
          },
          "hovermode": "closest",
          "mapbox": {
           "style": "light"
          },
          "paper_bgcolor": "white",
          "plot_bgcolor": "#E5ECF6",
          "polar": {
           "angularaxis": {
            "gridcolor": "white",
            "linecolor": "white",
            "ticks": ""
           },
           "bgcolor": "#E5ECF6",
           "radialaxis": {
            "gridcolor": "white",
            "linecolor": "white",
            "ticks": ""
           }
          },
          "scene": {
           "xaxis": {
            "backgroundcolor": "#E5ECF6",
            "gridcolor": "white",
            "gridwidth": 2,
            "linecolor": "white",
            "showbackground": true,
            "ticks": "",
            "zerolinecolor": "white"
           },
           "yaxis": {
            "backgroundcolor": "#E5ECF6",
            "gridcolor": "white",
            "gridwidth": 2,
            "linecolor": "white",
            "showbackground": true,
            "ticks": "",
            "zerolinecolor": "white"
           },
           "zaxis": {
            "backgroundcolor": "#E5ECF6",
            "gridcolor": "white",
            "gridwidth": 2,
            "linecolor": "white",
            "showbackground": true,
            "ticks": "",
            "zerolinecolor": "white"
           }
          },
          "shapedefaults": {
           "line": {
            "color": "#2a3f5f"
           }
          },
          "ternary": {
           "aaxis": {
            "gridcolor": "white",
            "linecolor": "white",
            "ticks": ""
           },
           "baxis": {
            "gridcolor": "white",
            "linecolor": "white",
            "ticks": ""
           },
           "bgcolor": "#E5ECF6",
           "caxis": {
            "gridcolor": "white",
            "linecolor": "white",
            "ticks": ""
           }
          },
          "title": {
           "x": 0.05
          },
          "xaxis": {
           "automargin": true,
           "gridcolor": "white",
           "linecolor": "white",
           "ticks": "",
           "title": {
            "standoff": 15
           },
           "zerolinecolor": "white",
           "zerolinewidth": 2
          },
          "yaxis": {
           "automargin": true,
           "gridcolor": "white",
           "linecolor": "white",
           "ticks": "",
           "title": {
            "standoff": 15
           },
           "zerolinecolor": "white",
           "zerolinewidth": 2
          }
         }
        },
        "title": {
         "text": "Crystal Structure Embeddings"
        },
        "xaxis": {
         "anchor": "y",
         "domain": [
          0,
          1
         ],
         "title": {
          "text": "x"
         }
        },
        "yaxis": {
         "anchor": "x",
         "domain": [
          0,
          1
         ],
         "title": {
          "text": "y"
         }
        }
       }
      }
     },
     "metadata": {},
     "output_type": "display_data"
    }
   ],
   "source": [
    "import plotly.express as px\n",
    "\n",
    "# Создаем DataFrame для визуализации\n",
    "import pandas as pd\n",
    "df = pd.DataFrame({\n",
    "    'x': embeddings_2d[:, 0],\n",
    "    'y': embeddings_2d[:, 1],\n",
    "    'class': [f'Class {cid}' for cid in class_ids],\n",
    "    'size': [20]*len(class_ids)\n",
    "})\n",
    "\n",
    "# Интерактивный scatter plot\n",
    "fig = px.scatter(df, x='x', y='y', text='class', \n",
    "                 hover_name='class', size='size',\n",
    "                 title='Crystal Structure Embeddings')\n",
    "fig.update_traces(textposition='top center')\n",
    "fig.show()"
   ]
  }
 ],
 "metadata": {
  "kernelspec": {
   "display_name": "base",
   "language": "python",
   "name": "python3"
  },
  "language_info": {
   "codemirror_mode": {
    "name": "ipython",
    "version": 3
   },
   "file_extension": ".py",
   "mimetype": "text/x-python",
   "name": "python",
   "nbconvert_exporter": "python",
   "pygments_lexer": "ipython3",
   "version": "3.11.11"
  }
 },
 "nbformat": 4,
 "nbformat_minor": 5
}
