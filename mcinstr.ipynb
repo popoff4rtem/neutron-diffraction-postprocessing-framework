{
 "cells": [
  {
   "cell_type": "code",
   "execution_count": 1,
   "metadata": {},
   "outputs": [],
   "source": [
    "import mcstasscript as ms"
   ]
  },
  {
   "cell_type": "code",
   "execution_count": 2,
   "metadata": {},
   "outputs": [],
   "source": [
    "instrument_reader = ms.McStas_file(\"/Users/artempopov/Downloads/dif60_20231116_131030/dif60.instr\")"
   ]
  },
  {
   "cell_type": "code",
   "execution_count": 3,
   "metadata": {},
   "outputs": [
    {
     "name": "stdout",
     "output_type": "stream",
     "text": [
      "No instrument parameters available\n",
      "DECLARE VARIABLES \n",
      "type    variable name        array length  value           \n",
      "---------------------------------------------------------\n",
      "double  T1                                 98.3            \n",
      "double  I1                                 264000000000.0  \n",
      "double  T2                                 303.1           \n",
      "double  I2                                 119000000000.0  \n",
      "double  T3                                 29.9            \n",
      "double  I3                                 310000000000.0  \n",
      "double  T                                                  \n",
      "double  t                                                  \n",
      "double  source_freq                        60.0            \n",
      "double  source_pulse_number                2.0             \n",
      "double  pulse_length                       70.0            \n",
      "\n",
      "origin             Progress_bar  AT      (0,  0,  0)      ABSOLUTE           \n",
      "source             Source_gen    AT      (0, 0, 0)        RELATIVE origin    \n",
      "mon_sou_xy         Monitor_nD    AT      (0,  0, 0.10001) RELATIVE source    \n",
      "mon_sou_lam        Monitor_nD    AT      (0,  0, 0.10001) RELATIVE source    \n",
      "sou_t_2p           Monitor_nD    AT      (0,  0, 1e-6)    RELATIVE source    \n",
      "sou_t_1p           Monitor_nD    AT      (0,  0, 0)       RELATIVE PREVIOUS  \n",
      "before_ch1_t_2p    Monitor_nD    AT      (0,  0, 0.1001)  RELATIVE source    \n",
      "before_ch1_t_1p    Monitor_nD    AT      (0,  0, 0)       RELATIVE PREVIOUS  \n",
      "Ch1                DiskChopper   AT      (0, 0, 0.101)    RELATIVE source    \n",
      "Ch11               DiskChopper   AT      (0, 0, 1e-6)     RELATIVE PREVIOUS  \n",
      "mon_afterch1_xy    Monitor_nD    AT      (0,  0, 1e-5)    RELATIVE Ch1       \n",
      "monitor_ndt_ch11   Monitor_nD    AT      (0,  0, 1e-5)    RELATIVE Ch1       \n",
      "monitor_ndt_ch12   Monitor_nD    AT      (0,  0, 0)       RELATIVE PREVIOUS  \n",
      "monitor_dxy_ch1    Monitor_nD    AT      (0,  0, 0)       RELATIVE PREVIOUS  \n",
      "guide              Guide_gravity AT      (0, 0, 0.01)     RELATIVE PREVIOUS  \n",
      "Ch2                DiskChopper   AT      (0, 0, 5.51)     RELATIVE PREVIOUS  \n",
      "bender             Bender        AT      (0, 0, 0.01)     RELATIVE PREVIOUS  \n",
      "Mon_source_lambda  L_monitor     AT      (0, 0, 12.01)    RELATIVE PREVIOUS  \n",
      "monitor_ndt        Monitor_nD    AT      (0,  0, 0)       RELATIVE PREVIOUS  \n",
      "mon_det_xy         Monitor_nD    AT      (0,  0, 0)       RELATIVE PREVIOUS  \n",
      "monitor_dxy_bender Monitor_nD    AT      (0,  0, 1e-5)    RELATIVE PREVIOUS  \n",
      "Arm_sample         Arm           AT      (0,  0,  1.05)   RELATIVE PREVIOUS  \n",
      "powdern            PowderN       AT      (0,  0,  0)      RELATIVE Arm_sample \n",
      "                                 ROTATED (0,  0,  0)      RELATIVE PREVIOUS\n",
      "Detector           Monitor_nD    AT      (0,  0,  0)      RELATIVE Arm_sample\n"
     ]
    }
   ],
   "source": [
    "instrument = ms.McStas_instr(\"reader_test\")\n",
    "instrument_reader.add_to_instr(instrument)\n",
    "\n",
    "instrument.show_parameters()\n",
    "instrument.show_variables()\n",
    "instrument.show_components()"
   ]
  },
  {
   "cell_type": "code",
   "execution_count": 4,
   "metadata": {},
   "outputs": [],
   "source": [
    "instrument_reader.write_python_file(\"Diffraction_generation_script.py\", force=True)"
   ]
  }
 ],
 "metadata": {
  "kernelspec": {
   "display_name": "base",
   "language": "python",
   "name": "python3"
  },
  "language_info": {
   "codemirror_mode": {
    "name": "ipython",
    "version": 3
   },
   "file_extension": ".py",
   "mimetype": "text/x-python",
   "name": "python",
   "nbconvert_exporter": "python",
   "pygments_lexer": "ipython3",
   "version": "3.10.9"
  }
 },
 "nbformat": 4,
 "nbformat_minor": 2
}
